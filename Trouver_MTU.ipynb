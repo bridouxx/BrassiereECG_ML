{
 "cells": [
  {
   "cell_type": "code",
   "execution_count": null,
   "id": "a160e87c-44a3-4248-b415-593e22fe2dad",
   "metadata": {},
   "outputs": [],
   "source": [
    "import asyncio\n",
    "import nest_asyncio #Sur Jupyter Notebook, Asyncio ne fonctionne pas correctement car Jupyter travaille déjà en tant que boucle. On utilise donc nest_asyncio.\n",
    "nest_asyncio.apply() \n",
    "from bleak import BleakClient #Il faut évidemment déjà avoir installé Bleak\n",
    "\n",
    "NANO_BLE_MAC = \"4E68CBA8-109F-20F5-97BC-EC505A95C972\"\n",
    "\n",
    "async def get_mtu():\n",
    "    async with BleakClient(NANO_BLE_MAC) as client:\n",
    "        await client.connect()\n",
    "        mtu_size = client.mtu_size  # ✅ Récupérer le MTU\n",
    "        print(f\"📡 Taille MTU actuelle : {mtu_size}\")\n",
    "\n",
    "asyncio.run(get_mtu())"
   ]
  }
 ],
 "metadata": {
  "kernelspec": {
   "display_name": "Python [conda env:base] *",
   "language": "python",
   "name": "conda-base-py"
  },
  "language_info": {
   "codemirror_mode": {
    "name": "ipython",
    "version": 3
   },
   "file_extension": ".py",
   "mimetype": "text/x-python",
   "name": "python",
   "nbconvert_exporter": "python",
   "pygments_lexer": "ipython3",
   "version": "3.12.7"
  }
 },
 "nbformat": 4,
 "nbformat_minor": 5
}
